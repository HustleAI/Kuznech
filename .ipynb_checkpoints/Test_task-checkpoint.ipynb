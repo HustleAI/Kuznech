{
 "cells": [
  {
   "cell_type": "markdown",
   "metadata": {},
   "source": [
    "Тестовое задание по Питону\n",
    "\n",
    " \n",
    "\n",
    "Необходимо создать скрипт на языке Питон(версии 3+), который обладает следующим функционалом:\n",
    "\n",
    "1. Входные параметры:\n",
    "\n",
    "·         локальная папка структуры типа https://drive.google.com/drive/folders/1W2XSXpqwC5HkY8zrk6evIS5F5W0h03BA?usp=sharing, где имя поддиректории - уникальный id сессии фотографирования, а изображения внутри - фотографии витрин + фотография-склейка\n",
    "\n",
    "·         режим работы(возможны 2 режима работы)\n",
    "\n",
    "·         имя выходной папки\n",
    "\n",
    " \n",
    "\n",
    "2. В первом режиме скрипт проходит по всем сессиям и все изображения типа 1.jpg, 2.jpg(исключая изображение full_image.jpg) и т.д. копирует в выходную папку и переименовывает следующим образом:\n",
    "\n",
    "#id сессии#_1.jpg, #id сессии#_2.jpg, и т.д.\n",
    "\n",
    " \n",
    "\n",
    "3. Во втором режиме скрипт проходит по всем сессиям и все изображения типа full_image.jpg копирует в выходную папку и переименовывает следующим образом:\n",
    "\n",
    "#id сессии#_full_image.jpg\n",
    "\n",
    " \n",
    "\n",
    "4. Результаты работы, а также ошибки скрипт должен выводить в лог.\n",
    "\n",
    " \n",
    "\n",
    "К скрипту должна быть приложена минимальная документация и пример запуска.\n",
    "\n",
    "Также необходимо указать время, затраченное на разработку скрипта.\n",
    "\n",
    "В первую очередь мы будем обращать внимание на грамотный код, поэтому постарайтесь быть аккуратным и внимательным во время написания скрипта."
   ]
  },
  {
   "cell_type": "code",
   "execution_count": null,
   "metadata": {},
   "outputs": [],
   "source": []
  },
  {
   "cell_type": "code",
   "execution_count": 144,
   "metadata": {},
   "outputs": [
    {
     "name": "stdout",
     "output_type": "stream",
     "text": [
      "Test_task.ipynb\n",
      "Transform_data\n",
      "sample.log\n",
      "titan03_oct\n"
     ]
    }
   ],
   "source": [
    "!ls"
   ]
  },
  {
   "cell_type": "code",
   "execution_count": 19,
   "metadata": {},
   "outputs": [],
   "source": [
    "PATH_TO_DATA = 'titan03_oct' # the path to the folder with images"
   ]
  },
  {
   "cell_type": "code",
   "execution_count": 91,
   "metadata": {},
   "outputs": [],
   "source": [
    "PATH_TO_EXIT = 'Transform_data'"
   ]
  },
  {
   "cell_type": "code",
   "execution_count": 32,
   "metadata": {},
   "outputs": [],
   "source": [
    "import os\n",
    "import shutil"
   ]
  },
  {
   "cell_type": "code",
   "execution_count": 161,
   "metadata": {},
   "outputs": [],
   "source": [
    "import logging\n",
    " \n",
    "logging.basicConfig(filename=\"sample.log\", filemode=\"w\", level=logging.DEBUG)\n",
    "\n",
    "logging.debug(\"This is a debug message\")\n",
    "logging.info(\"Informational message\")\n",
    "logging.error(\"An error has happened!\")"
   ]
  },
  {
   "cell_type": "code",
   "execution_count": 163,
   "metadata": {},
   "outputs": [],
   "source": [
    "def extract_images_and_overwrite_image_name(path_to_data, path_to_exit, flag=0):\n",
    "\n",
    "    for folder in os.listdir(path_to_data): # for any folder from session\n",
    "        for filename in os.listdir(os.path.join(path_to_data, folder)): # for any file from folder\n",
    "            if flag == 0:\n",
    "                if filename.startswith(\"full_image\") is False: \n",
    "                    new_filename = \"{}_\".format(folder) + filename\n",
    "                    if os.path.isfile(os.path.join(path_to_data, folder, filename)): # check file\n",
    "                        shutil.copy(os.path.join(path_to_data, folder, filename), os.path.join(path_to_exit, new_filename))\n",
    "            elif flag == 1:\n",
    "                if filename.startswith(\"full_image\"): \n",
    "                    new_filename = \"{}_\".format(folder) + filename\n",
    "                    if os.path.isfile(os.path.join(path_to_data, folder, filename)):\n",
    "                        shutil.copy(os.path.join(path_to_data, folder, filename), os.path.join(path_to_exit, new_filename))"
   ]
  },
  {
   "cell_type": "code",
   "execution_count": 166,
   "metadata": {},
   "outputs": [],
   "source": [
    "extract_images_and_overwrite_image_name(PATH_TO_DATA, PATH_TO_EXIT)"
   ]
  },
  {
   "cell_type": "code",
   "execution_count": 137,
   "metadata": {},
   "outputs": [],
   "source": [
    "extract_images_and_overwrite_image_name(PATH_TO_DATA, PATH_TO_EXIT, flag=1)"
   ]
  },
  {
   "cell_type": "code",
   "execution_count": null,
   "metadata": {},
   "outputs": [],
   "source": []
  },
  {
   "cell_type": "code",
   "execution_count": null,
   "metadata": {},
   "outputs": [],
   "source": []
  },
  {
   "cell_type": "code",
   "execution_count": null,
   "metadata": {},
   "outputs": [],
   "source": []
  },
  {
   "cell_type": "code",
   "execution_count": null,
   "metadata": {},
   "outputs": [],
   "source": []
  },
  {
   "cell_type": "code",
   "execution_count": null,
   "metadata": {},
   "outputs": [],
   "source": []
  },
  {
   "cell_type": "code",
   "execution_count": null,
   "metadata": {},
   "outputs": [],
   "source": []
  },
  {
   "cell_type": "code",
   "execution_count": null,
   "metadata": {},
   "outputs": [],
   "source": []
  },
  {
   "cell_type": "code",
   "execution_count": null,
   "metadata": {},
   "outputs": [],
   "source": []
  }
 ],
 "metadata": {
  "kernelspec": {
   "display_name": "Python 3",
   "language": "python",
   "name": "python3"
  },
  "language_info": {
   "codemirror_mode": {
    "name": "ipython",
    "version": 3
   },
   "file_extension": ".py",
   "mimetype": "text/x-python",
   "name": "python",
   "nbconvert_exporter": "python",
   "pygments_lexer": "ipython3",
   "version": "3.6.3"
  }
 },
 "nbformat": 4,
 "nbformat_minor": 2
}
